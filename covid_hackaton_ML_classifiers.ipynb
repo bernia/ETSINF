{
  "nbformat": 4,
  "nbformat_minor": 0,
  "metadata": {
    "colab": {
      "name": "covid_hackaton_ML_classifiers.ipynb",
      "provenance": [],
      "collapsed_sections": [],
      "authorship_tag": "ABX9TyN5pHvYaf6ZcOWpszAweyWd",
      "include_colab_link": true
    },
    "kernelspec": {
      "name": "python3",
      "display_name": "Python 3"
    },
    "language_info": {
      "name": "python"
    }
  },
  "cells": [
    {
      "cell_type": "markdown",
      "metadata": {
        "id": "view-in-github",
        "colab_type": "text"
      },
      "source": [
        "<a href=\"https://colab.research.google.com/github/bernia/ETSINF/blob/master/covid_hackaton_ML_classifiers.ipynb\" target=\"_parent\"><img src=\"https://colab.research.google.com/assets/colab-badge.svg\" alt=\"Open In Colab\"/></a>"
      ]
    },
    {
      "cell_type": "markdown",
      "source": [
        "#Covid CXR Hackathon: Classiffiers"
      ],
      "metadata": {
        "id": "huX0XcqN61Ky"
      }
    },
    {
      "cell_type": "markdown",
      "source": [
        "## Import libraries and load data"
      ],
      "metadata": {
        "id": "469KULwE67hN"
      }
    },
    {
      "cell_type": "code",
      "source": [
        "from google.colab import drive\n",
        "import numpy as np\n",
        "import pandas as pd\n",
        "from xgboost import XGBClassifier\n",
        "from sklearn.model_selection import cross_val_score, GridSearchCV\n",
        "from sklearn.ensemble import GradientBoostingClassifier, RandomForestClassifier\n",
        "from sklearn import svm\n",
        "from sklearn.linear_model import SGDClassifier, LogisticRegression\n",
        "from sklearn.neural_network import MLPClassifier\n",
        "from sklearn import neighbors\n",
        "from sklearn.tree import DecisionTreeClassifier\n",
        "from sklearn import preprocessing"
      ],
      "metadata": {
        "id": "mCtr0xOm65BL"
      },
      "execution_count": 1,
      "outputs": []
    },
    {
      "cell_type": "code",
      "source": [
        "!pip install xlrd==2.0.1"
      ],
      "metadata": {
        "colab": {
          "base_uri": "https://localhost:8080/"
        },
        "id": "bx4w2Pyy7pr9",
        "outputId": "a1b32646-4243-43ce-a473-353eca3c6bcc"
      },
      "execution_count": 2,
      "outputs": [
        {
          "output_type": "stream",
          "name": "stdout",
          "text": [
            "Collecting xlrd==2.0.1\n",
            "  Downloading xlrd-2.0.1-py2.py3-none-any.whl (96 kB)\n",
            "\u001b[?25l\r\u001b[K     |███▍                            | 10 kB 22.8 MB/s eta 0:00:01\r\u001b[K     |██████▉                         | 20 kB 30.5 MB/s eta 0:00:01\r\u001b[K     |██████████▏                     | 30 kB 34.6 MB/s eta 0:00:01\r\u001b[K     |█████████████▋                  | 40 kB 15.6 MB/s eta 0:00:01\r\u001b[K     |█████████████████               | 51 kB 13.3 MB/s eta 0:00:01\r\u001b[K     |████████████████████▍           | 61 kB 15.4 MB/s eta 0:00:01\r\u001b[K     |███████████████████████▊        | 71 kB 12.4 MB/s eta 0:00:01\r\u001b[K     |███████████████████████████▏    | 81 kB 13.8 MB/s eta 0:00:01\r\u001b[K     |██████████████████████████████▌ | 92 kB 15.2 MB/s eta 0:00:01\r\u001b[K     |████████████████████████████████| 96 kB 4.7 MB/s \n",
            "\u001b[?25hInstalling collected packages: xlrd\n",
            "  Attempting uninstall: xlrd\n",
            "    Found existing installation: xlrd 1.1.0\n",
            "    Uninstalling xlrd-1.1.0:\n",
            "      Successfully uninstalled xlrd-1.1.0\n",
            "Successfully installed xlrd-2.0.1\n"
          ]
        }
      ]
    },
    {
      "cell_type": "code",
      "source": [
        "drive.mount('/content/drive')\n",
        "df = pd.read_excel('/content/drive/MyDrive/trainClinData.xls')\n",
        "df.head()"
      ],
      "metadata": {
        "colab": {
          "base_uri": "https://localhost:8080/",
          "height": 288
        },
        "id": "CnmkSPAK7s2T",
        "outputId": "db4a15d2-a50d-43b9-dfae-ae9d0d66c067"
      },
      "execution_count": 3,
      "outputs": [
        {
          "output_type": "stream",
          "name": "stdout",
          "text": [
            "Mounted at /content/drive\n"
          ]
        },
        {
          "output_type": "execute_result",
          "data": {
            "text/html": [
              "\n",
              "  <div id=\"df-263f8ba6-9cbd-4246-93a0-30b1f04d3b6c\">\n",
              "    <div class=\"colab-df-container\">\n",
              "      <div>\n",
              "<style scoped>\n",
              "    .dataframe tbody tr th:only-of-type {\n",
              "        vertical-align: middle;\n",
              "    }\n",
              "\n",
              "    .dataframe tbody tr th {\n",
              "        vertical-align: top;\n",
              "    }\n",
              "\n",
              "    .dataframe thead th {\n",
              "        text-align: right;\n",
              "    }\n",
              "</style>\n",
              "<table border=\"1\" class=\"dataframe\">\n",
              "  <thead>\n",
              "    <tr style=\"text-align: right;\">\n",
              "      <th></th>\n",
              "      <th>Row_number</th>\n",
              "      <th>ImageFile</th>\n",
              "      <th>Hospital</th>\n",
              "      <th>Age</th>\n",
              "      <th>Sex</th>\n",
              "      <th>PositivityAtAdmission</th>\n",
              "      <th>Temp_C</th>\n",
              "      <th>DaysFever</th>\n",
              "      <th>Cough</th>\n",
              "      <th>DifficultyInBreathing</th>\n",
              "      <th>WBC</th>\n",
              "      <th>RBC</th>\n",
              "      <th>CRP</th>\n",
              "      <th>Fibrinogen</th>\n",
              "      <th>Glucose</th>\n",
              "      <th>PCT</th>\n",
              "      <th>LDH</th>\n",
              "      <th>INR</th>\n",
              "      <th>D_dimer</th>\n",
              "      <th>Ox_percentage</th>\n",
              "      <th>PaO2</th>\n",
              "      <th>SaO2</th>\n",
              "      <th>PaCO2</th>\n",
              "      <th>pH</th>\n",
              "      <th>CardiovascularDisease</th>\n",
              "      <th>IschemicHeartDisease</th>\n",
              "      <th>AtrialFibrillation</th>\n",
              "      <th>HeartFailure</th>\n",
              "      <th>Ictus</th>\n",
              "      <th>HighBloodPressure</th>\n",
              "      <th>Diabetes</th>\n",
              "      <th>Dementia</th>\n",
              "      <th>BPCO</th>\n",
              "      <th>Cancer</th>\n",
              "      <th>ChronicKidneyDisease</th>\n",
              "      <th>RespiratoryFailure</th>\n",
              "      <th>Obesity</th>\n",
              "      <th>Position</th>\n",
              "      <th>Prognosis</th>\n",
              "      <th>Death</th>\n",
              "    </tr>\n",
              "  </thead>\n",
              "  <tbody>\n",
              "    <tr>\n",
              "      <th>0</th>\n",
              "      <td>82</td>\n",
              "      <td>P_102.png</td>\n",
              "      <td>A</td>\n",
              "      <td>72.000000</td>\n",
              "      <td>1</td>\n",
              "      <td>1.0</td>\n",
              "      <td>37.3</td>\n",
              "      <td>3.0</td>\n",
              "      <td>1.0</td>\n",
              "      <td>0.0</td>\n",
              "      <td>5.37</td>\n",
              "      <td>4.58</td>\n",
              "      <td>3.96</td>\n",
              "      <td>NaN</td>\n",
              "      <td>98.0</td>\n",
              "      <td>NaN</td>\n",
              "      <td>NaN</td>\n",
              "      <td>0.99</td>\n",
              "      <td>NaN</td>\n",
              "      <td>93.0</td>\n",
              "      <td>63.0</td>\n",
              "      <td>93.0</td>\n",
              "      <td>34.0</td>\n",
              "      <td>7.46</td>\n",
              "      <td>0.0</td>\n",
              "      <td>0.0</td>\n",
              "      <td>0.0</td>\n",
              "      <td>0.0</td>\n",
              "      <td>0.0</td>\n",
              "      <td>0.0</td>\n",
              "      <td>0.0</td>\n",
              "      <td>0.0</td>\n",
              "      <td>0.0</td>\n",
              "      <td>1.0</td>\n",
              "      <td>0.0</td>\n",
              "      <td>0.0</td>\n",
              "      <td>0.0</td>\n",
              "      <td>0.0</td>\n",
              "      <td>SEVERE</td>\n",
              "      <td>0</td>\n",
              "    </tr>\n",
              "    <tr>\n",
              "      <th>1</th>\n",
              "      <td>228</td>\n",
              "      <td>P_131.png</td>\n",
              "      <td>D</td>\n",
              "      <td>35.913889</td>\n",
              "      <td>0</td>\n",
              "      <td>1.0</td>\n",
              "      <td>39.3</td>\n",
              "      <td>3.0</td>\n",
              "      <td>1.0</td>\n",
              "      <td>0.0</td>\n",
              "      <td>5.76</td>\n",
              "      <td>5.24</td>\n",
              "      <td>43.40</td>\n",
              "      <td>651.0</td>\n",
              "      <td>NaN</td>\n",
              "      <td>NaN</td>\n",
              "      <td>387.0</td>\n",
              "      <td>1.12</td>\n",
              "      <td>157.0</td>\n",
              "      <td>94.0</td>\n",
              "      <td>NaN</td>\n",
              "      <td>NaN</td>\n",
              "      <td>NaN</td>\n",
              "      <td>NaN</td>\n",
              "      <td>0.0</td>\n",
              "      <td>NaN</td>\n",
              "      <td>0.0</td>\n",
              "      <td>0.0</td>\n",
              "      <td>0.0</td>\n",
              "      <td>1.0</td>\n",
              "      <td>0.0</td>\n",
              "      <td>0.0</td>\n",
              "      <td>0.0</td>\n",
              "      <td>0.0</td>\n",
              "      <td>0.0</td>\n",
              "      <td>NaN</td>\n",
              "      <td>1.0</td>\n",
              "      <td>0.0</td>\n",
              "      <td>MILD</td>\n",
              "      <td>0</td>\n",
              "    </tr>\n",
              "    <tr>\n",
              "      <th>2</th>\n",
              "      <td>229</td>\n",
              "      <td>P_132.png</td>\n",
              "      <td>D</td>\n",
              "      <td>57.266667</td>\n",
              "      <td>0</td>\n",
              "      <td>1.0</td>\n",
              "      <td>37.0</td>\n",
              "      <td>3.0</td>\n",
              "      <td>0.0</td>\n",
              "      <td>0.0</td>\n",
              "      <td>11.48</td>\n",
              "      <td>5.71</td>\n",
              "      <td>64.00</td>\n",
              "      <td>700.0</td>\n",
              "      <td>NaN</td>\n",
              "      <td>NaN</td>\n",
              "      <td>338.0</td>\n",
              "      <td>1.23</td>\n",
              "      <td>601.0</td>\n",
              "      <td>94.0</td>\n",
              "      <td>75.0</td>\n",
              "      <td>96.9</td>\n",
              "      <td>37.0</td>\n",
              "      <td>7.42</td>\n",
              "      <td>0.0</td>\n",
              "      <td>NaN</td>\n",
              "      <td>0.0</td>\n",
              "      <td>0.0</td>\n",
              "      <td>0.0</td>\n",
              "      <td>0.0</td>\n",
              "      <td>0.0</td>\n",
              "      <td>0.0</td>\n",
              "      <td>0.0</td>\n",
              "      <td>0.0</td>\n",
              "      <td>0.0</td>\n",
              "      <td>NaN</td>\n",
              "      <td>NaN</td>\n",
              "      <td>0.0</td>\n",
              "      <td>MILD</td>\n",
              "      <td>0</td>\n",
              "    </tr>\n",
              "    <tr>\n",
              "      <th>3</th>\n",
              "      <td>96</td>\n",
              "      <td>P_117.png</td>\n",
              "      <td>A</td>\n",
              "      <td>39.000000</td>\n",
              "      <td>1</td>\n",
              "      <td>1.0</td>\n",
              "      <td>37.2</td>\n",
              "      <td>2.0</td>\n",
              "      <td>1.0</td>\n",
              "      <td>0.0</td>\n",
              "      <td>10.17</td>\n",
              "      <td>3.45</td>\n",
              "      <td>0.75</td>\n",
              "      <td>NaN</td>\n",
              "      <td>80.0</td>\n",
              "      <td>NaN</td>\n",
              "      <td>NaN</td>\n",
              "      <td>1.14</td>\n",
              "      <td>NaN</td>\n",
              "      <td>95.0</td>\n",
              "      <td>77.0</td>\n",
              "      <td>97.0</td>\n",
              "      <td>41.0</td>\n",
              "      <td>7.38</td>\n",
              "      <td>1.0</td>\n",
              "      <td>0.0</td>\n",
              "      <td>0.0</td>\n",
              "      <td>0.0</td>\n",
              "      <td>0.0</td>\n",
              "      <td>0.0</td>\n",
              "      <td>0.0</td>\n",
              "      <td>0.0</td>\n",
              "      <td>0.0</td>\n",
              "      <td>0.0</td>\n",
              "      <td>0.0</td>\n",
              "      <td>0.0</td>\n",
              "      <td>0.0</td>\n",
              "      <td>1.0</td>\n",
              "      <td>MILD</td>\n",
              "      <td>0</td>\n",
              "    </tr>\n",
              "    <tr>\n",
              "      <th>4</th>\n",
              "      <td>112</td>\n",
              "      <td>P_16.png</td>\n",
              "      <td>A</td>\n",
              "      <td>44.000000</td>\n",
              "      <td>0</td>\n",
              "      <td>1.0</td>\n",
              "      <td>38.0</td>\n",
              "      <td>3.0</td>\n",
              "      <td>1.0</td>\n",
              "      <td>0.0</td>\n",
              "      <td>6.64</td>\n",
              "      <td>5.55</td>\n",
              "      <td>5.20</td>\n",
              "      <td>NaN</td>\n",
              "      <td>126.0</td>\n",
              "      <td>NaN</td>\n",
              "      <td>NaN</td>\n",
              "      <td>NaN</td>\n",
              "      <td>NaN</td>\n",
              "      <td>93.0</td>\n",
              "      <td>65.0</td>\n",
              "      <td>94.0</td>\n",
              "      <td>37.0</td>\n",
              "      <td>7.47</td>\n",
              "      <td>0.0</td>\n",
              "      <td>0.0</td>\n",
              "      <td>0.0</td>\n",
              "      <td>0.0</td>\n",
              "      <td>0.0</td>\n",
              "      <td>0.0</td>\n",
              "      <td>0.0</td>\n",
              "      <td>0.0</td>\n",
              "      <td>0.0</td>\n",
              "      <td>0.0</td>\n",
              "      <td>0.0</td>\n",
              "      <td>0.0</td>\n",
              "      <td>0.0</td>\n",
              "      <td>0.0</td>\n",
              "      <td>SEVERE</td>\n",
              "      <td>0</td>\n",
              "    </tr>\n",
              "  </tbody>\n",
              "</table>\n",
              "</div>\n",
              "      <button class=\"colab-df-convert\" onclick=\"convertToInteractive('df-263f8ba6-9cbd-4246-93a0-30b1f04d3b6c')\"\n",
              "              title=\"Convert this dataframe to an interactive table.\"\n",
              "              style=\"display:none;\">\n",
              "        \n",
              "  <svg xmlns=\"http://www.w3.org/2000/svg\" height=\"24px\"viewBox=\"0 0 24 24\"\n",
              "       width=\"24px\">\n",
              "    <path d=\"M0 0h24v24H0V0z\" fill=\"none\"/>\n",
              "    <path d=\"M18.56 5.44l.94 2.06.94-2.06 2.06-.94-2.06-.94-.94-2.06-.94 2.06-2.06.94zm-11 1L8.5 8.5l.94-2.06 2.06-.94-2.06-.94L8.5 2.5l-.94 2.06-2.06.94zm10 10l.94 2.06.94-2.06 2.06-.94-2.06-.94-.94-2.06-.94 2.06-2.06.94z\"/><path d=\"M17.41 7.96l-1.37-1.37c-.4-.4-.92-.59-1.43-.59-.52 0-1.04.2-1.43.59L10.3 9.45l-7.72 7.72c-.78.78-.78 2.05 0 2.83L4 21.41c.39.39.9.59 1.41.59.51 0 1.02-.2 1.41-.59l7.78-7.78 2.81-2.81c.8-.78.8-2.07 0-2.86zM5.41 20L4 18.59l7.72-7.72 1.47 1.35L5.41 20z\"/>\n",
              "  </svg>\n",
              "      </button>\n",
              "      \n",
              "  <style>\n",
              "    .colab-df-container {\n",
              "      display:flex;\n",
              "      flex-wrap:wrap;\n",
              "      gap: 12px;\n",
              "    }\n",
              "\n",
              "    .colab-df-convert {\n",
              "      background-color: #E8F0FE;\n",
              "      border: none;\n",
              "      border-radius: 50%;\n",
              "      cursor: pointer;\n",
              "      display: none;\n",
              "      fill: #1967D2;\n",
              "      height: 32px;\n",
              "      padding: 0 0 0 0;\n",
              "      width: 32px;\n",
              "    }\n",
              "\n",
              "    .colab-df-convert:hover {\n",
              "      background-color: #E2EBFA;\n",
              "      box-shadow: 0px 1px 2px rgba(60, 64, 67, 0.3), 0px 1px 3px 1px rgba(60, 64, 67, 0.15);\n",
              "      fill: #174EA6;\n",
              "    }\n",
              "\n",
              "    [theme=dark] .colab-df-convert {\n",
              "      background-color: #3B4455;\n",
              "      fill: #D2E3FC;\n",
              "    }\n",
              "\n",
              "    [theme=dark] .colab-df-convert:hover {\n",
              "      background-color: #434B5C;\n",
              "      box-shadow: 0px 1px 3px 1px rgba(0, 0, 0, 0.15);\n",
              "      filter: drop-shadow(0px 1px 2px rgba(0, 0, 0, 0.3));\n",
              "      fill: #FFFFFF;\n",
              "    }\n",
              "  </style>\n",
              "\n",
              "      <script>\n",
              "        const buttonEl =\n",
              "          document.querySelector('#df-263f8ba6-9cbd-4246-93a0-30b1f04d3b6c button.colab-df-convert');\n",
              "        buttonEl.style.display =\n",
              "          google.colab.kernel.accessAllowed ? 'block' : 'none';\n",
              "\n",
              "        async function convertToInteractive(key) {\n",
              "          const element = document.querySelector('#df-263f8ba6-9cbd-4246-93a0-30b1f04d3b6c');\n",
              "          const dataTable =\n",
              "            await google.colab.kernel.invokeFunction('convertToInteractive',\n",
              "                                                     [key], {});\n",
              "          if (!dataTable) return;\n",
              "\n",
              "          const docLinkHtml = 'Like what you see? Visit the ' +\n",
              "            '<a target=\"_blank\" href=https://colab.research.google.com/notebooks/data_table.ipynb>data table notebook</a>'\n",
              "            + ' to learn more about interactive tables.';\n",
              "          element.innerHTML = '';\n",
              "          dataTable['output_type'] = 'display_data';\n",
              "          await google.colab.output.renderOutput(dataTable, element);\n",
              "          const docLink = document.createElement('div');\n",
              "          docLink.innerHTML = docLinkHtml;\n",
              "          element.appendChild(docLink);\n",
              "        }\n",
              "      </script>\n",
              "    </div>\n",
              "  </div>\n",
              "  "
            ],
            "text/plain": [
              "   Row_number  ImageFile Hospital  ...  Position  Prognosis  Death\n",
              "0          82  P_102.png        A  ...       0.0     SEVERE      0\n",
              "1         228  P_131.png        D  ...       0.0       MILD      0\n",
              "2         229  P_132.png        D  ...       0.0       MILD      0\n",
              "3          96  P_117.png        A  ...       1.0       MILD      0\n",
              "4         112   P_16.png        A  ...       0.0     SEVERE      0\n",
              "\n",
              "[5 rows x 40 columns]"
            ]
          },
          "metadata": {},
          "execution_count": 3
        }
      ]
    },
    {
      "cell_type": "markdown",
      "source": [
        "## Prepare data"
      ],
      "metadata": {
        "id": "Fk58jM65-pHC"
      }
    },
    {
      "cell_type": "code",
      "source": [
        "# Convert Hospital to Categorical (add new columns)\n",
        "for hospital in df['Hospital'].unique():\n",
        "    df[f'Hospital_{hospital}']=[0] * len(df)\n",
        "    df[f'Hospital_{hospital}'][df.index[df['Hospital']==hospital]] = 1\n",
        "\n",
        "df.head()"
      ],
      "metadata": {
        "colab": {
          "base_uri": "https://localhost:8080/",
          "height": 357
        },
        "id": "RhOCN6VnPguQ",
        "outputId": "b8f6eed8-a36d-40a6-ba2f-3513ad97f8f4"
      },
      "execution_count": 104,
      "outputs": [
        {
          "output_type": "stream",
          "name": "stderr",
          "text": [
            "/usr/local/lib/python3.7/dist-packages/ipykernel_launcher.py:4: SettingWithCopyWarning: \n",
            "A value is trying to be set on a copy of a slice from a DataFrame\n",
            "\n",
            "See the caveats in the documentation: https://pandas.pydata.org/pandas-docs/stable/user_guide/indexing.html#returning-a-view-versus-a-copy\n",
            "  after removing the cwd from sys.path.\n"
          ]
        },
        {
          "output_type": "execute_result",
          "data": {
            "text/html": [
              "\n",
              "  <div id=\"df-9c0d5dfb-52de-4fa2-8332-ef74c98afdcb\">\n",
              "    <div class=\"colab-df-container\">\n",
              "      <div>\n",
              "<style scoped>\n",
              "    .dataframe tbody tr th:only-of-type {\n",
              "        vertical-align: middle;\n",
              "    }\n",
              "\n",
              "    .dataframe tbody tr th {\n",
              "        vertical-align: top;\n",
              "    }\n",
              "\n",
              "    .dataframe thead th {\n",
              "        text-align: right;\n",
              "    }\n",
              "</style>\n",
              "<table border=\"1\" class=\"dataframe\">\n",
              "  <thead>\n",
              "    <tr style=\"text-align: right;\">\n",
              "      <th></th>\n",
              "      <th>Row_number</th>\n",
              "      <th>ImageFile</th>\n",
              "      <th>Hospital</th>\n",
              "      <th>Age</th>\n",
              "      <th>Sex</th>\n",
              "      <th>PositivityAtAdmission</th>\n",
              "      <th>Temp_C</th>\n",
              "      <th>DaysFever</th>\n",
              "      <th>Cough</th>\n",
              "      <th>DifficultyInBreathing</th>\n",
              "      <th>WBC</th>\n",
              "      <th>RBC</th>\n",
              "      <th>CRP</th>\n",
              "      <th>Fibrinogen</th>\n",
              "      <th>Glucose</th>\n",
              "      <th>PCT</th>\n",
              "      <th>LDH</th>\n",
              "      <th>INR</th>\n",
              "      <th>D_dimer</th>\n",
              "      <th>Ox_percentage</th>\n",
              "      <th>PaO2</th>\n",
              "      <th>SaO2</th>\n",
              "      <th>PaCO2</th>\n",
              "      <th>pH</th>\n",
              "      <th>CardiovascularDisease</th>\n",
              "      <th>IschemicHeartDisease</th>\n",
              "      <th>AtrialFibrillation</th>\n",
              "      <th>HeartFailure</th>\n",
              "      <th>Ictus</th>\n",
              "      <th>HighBloodPressure</th>\n",
              "      <th>Diabetes</th>\n",
              "      <th>Dementia</th>\n",
              "      <th>BPCO</th>\n",
              "      <th>Cancer</th>\n",
              "      <th>ChronicKidneyDisease</th>\n",
              "      <th>RespiratoryFailure</th>\n",
              "      <th>Obesity</th>\n",
              "      <th>Position</th>\n",
              "      <th>Prognosis</th>\n",
              "      <th>Death</th>\n",
              "      <th>Hospital_A</th>\n",
              "      <th>Hospital_D</th>\n",
              "      <th>Hospital_E</th>\n",
              "      <th>Hospital_F</th>\n",
              "      <th>Hospital_B</th>\n",
              "      <th>Hospital_C</th>\n",
              "    </tr>\n",
              "  </thead>\n",
              "  <tbody>\n",
              "    <tr>\n",
              "      <th>0</th>\n",
              "      <td>82</td>\n",
              "      <td>P_102.png</td>\n",
              "      <td>A</td>\n",
              "      <td>72.000000</td>\n",
              "      <td>1</td>\n",
              "      <td>1.0</td>\n",
              "      <td>37.3</td>\n",
              "      <td>3.0</td>\n",
              "      <td>1.0</td>\n",
              "      <td>0.0</td>\n",
              "      <td>5.37</td>\n",
              "      <td>4.58</td>\n",
              "      <td>3.96</td>\n",
              "      <td>NaN</td>\n",
              "      <td>98.0</td>\n",
              "      <td>NaN</td>\n",
              "      <td>NaN</td>\n",
              "      <td>0.99</td>\n",
              "      <td>NaN</td>\n",
              "      <td>93.0</td>\n",
              "      <td>63.0</td>\n",
              "      <td>93.0</td>\n",
              "      <td>34.0</td>\n",
              "      <td>7.46</td>\n",
              "      <td>0.0</td>\n",
              "      <td>0.0</td>\n",
              "      <td>0.0</td>\n",
              "      <td>0.0</td>\n",
              "      <td>0.0</td>\n",
              "      <td>0.0</td>\n",
              "      <td>0.0</td>\n",
              "      <td>0.0</td>\n",
              "      <td>0.0</td>\n",
              "      <td>1.0</td>\n",
              "      <td>0.0</td>\n",
              "      <td>0.0</td>\n",
              "      <td>0.0</td>\n",
              "      <td>0.0</td>\n",
              "      <td>SEVERE</td>\n",
              "      <td>0</td>\n",
              "      <td>1</td>\n",
              "      <td>0</td>\n",
              "      <td>0</td>\n",
              "      <td>0</td>\n",
              "      <td>0</td>\n",
              "      <td>0</td>\n",
              "    </tr>\n",
              "    <tr>\n",
              "      <th>1</th>\n",
              "      <td>228</td>\n",
              "      <td>P_131.png</td>\n",
              "      <td>D</td>\n",
              "      <td>35.913889</td>\n",
              "      <td>0</td>\n",
              "      <td>1.0</td>\n",
              "      <td>39.3</td>\n",
              "      <td>3.0</td>\n",
              "      <td>1.0</td>\n",
              "      <td>0.0</td>\n",
              "      <td>5.76</td>\n",
              "      <td>5.24</td>\n",
              "      <td>43.40</td>\n",
              "      <td>651.0</td>\n",
              "      <td>NaN</td>\n",
              "      <td>NaN</td>\n",
              "      <td>387.0</td>\n",
              "      <td>1.12</td>\n",
              "      <td>157.0</td>\n",
              "      <td>94.0</td>\n",
              "      <td>NaN</td>\n",
              "      <td>NaN</td>\n",
              "      <td>NaN</td>\n",
              "      <td>NaN</td>\n",
              "      <td>0.0</td>\n",
              "      <td>NaN</td>\n",
              "      <td>0.0</td>\n",
              "      <td>0.0</td>\n",
              "      <td>0.0</td>\n",
              "      <td>1.0</td>\n",
              "      <td>0.0</td>\n",
              "      <td>0.0</td>\n",
              "      <td>0.0</td>\n",
              "      <td>0.0</td>\n",
              "      <td>0.0</td>\n",
              "      <td>NaN</td>\n",
              "      <td>1.0</td>\n",
              "      <td>0.0</td>\n",
              "      <td>MILD</td>\n",
              "      <td>0</td>\n",
              "      <td>0</td>\n",
              "      <td>1</td>\n",
              "      <td>0</td>\n",
              "      <td>0</td>\n",
              "      <td>0</td>\n",
              "      <td>0</td>\n",
              "    </tr>\n",
              "    <tr>\n",
              "      <th>2</th>\n",
              "      <td>229</td>\n",
              "      <td>P_132.png</td>\n",
              "      <td>D</td>\n",
              "      <td>57.266667</td>\n",
              "      <td>0</td>\n",
              "      <td>1.0</td>\n",
              "      <td>37.0</td>\n",
              "      <td>3.0</td>\n",
              "      <td>0.0</td>\n",
              "      <td>0.0</td>\n",
              "      <td>11.48</td>\n",
              "      <td>5.71</td>\n",
              "      <td>64.00</td>\n",
              "      <td>700.0</td>\n",
              "      <td>NaN</td>\n",
              "      <td>NaN</td>\n",
              "      <td>338.0</td>\n",
              "      <td>1.23</td>\n",
              "      <td>601.0</td>\n",
              "      <td>94.0</td>\n",
              "      <td>75.0</td>\n",
              "      <td>96.9</td>\n",
              "      <td>37.0</td>\n",
              "      <td>7.42</td>\n",
              "      <td>0.0</td>\n",
              "      <td>NaN</td>\n",
              "      <td>0.0</td>\n",
              "      <td>0.0</td>\n",
              "      <td>0.0</td>\n",
              "      <td>0.0</td>\n",
              "      <td>0.0</td>\n",
              "      <td>0.0</td>\n",
              "      <td>0.0</td>\n",
              "      <td>0.0</td>\n",
              "      <td>0.0</td>\n",
              "      <td>NaN</td>\n",
              "      <td>NaN</td>\n",
              "      <td>0.0</td>\n",
              "      <td>MILD</td>\n",
              "      <td>0</td>\n",
              "      <td>0</td>\n",
              "      <td>1</td>\n",
              "      <td>0</td>\n",
              "      <td>0</td>\n",
              "      <td>0</td>\n",
              "      <td>0</td>\n",
              "    </tr>\n",
              "    <tr>\n",
              "      <th>3</th>\n",
              "      <td>96</td>\n",
              "      <td>P_117.png</td>\n",
              "      <td>A</td>\n",
              "      <td>39.000000</td>\n",
              "      <td>1</td>\n",
              "      <td>1.0</td>\n",
              "      <td>37.2</td>\n",
              "      <td>2.0</td>\n",
              "      <td>1.0</td>\n",
              "      <td>0.0</td>\n",
              "      <td>10.17</td>\n",
              "      <td>3.45</td>\n",
              "      <td>0.75</td>\n",
              "      <td>NaN</td>\n",
              "      <td>80.0</td>\n",
              "      <td>NaN</td>\n",
              "      <td>NaN</td>\n",
              "      <td>1.14</td>\n",
              "      <td>NaN</td>\n",
              "      <td>95.0</td>\n",
              "      <td>77.0</td>\n",
              "      <td>97.0</td>\n",
              "      <td>41.0</td>\n",
              "      <td>7.38</td>\n",
              "      <td>1.0</td>\n",
              "      <td>0.0</td>\n",
              "      <td>0.0</td>\n",
              "      <td>0.0</td>\n",
              "      <td>0.0</td>\n",
              "      <td>0.0</td>\n",
              "      <td>0.0</td>\n",
              "      <td>0.0</td>\n",
              "      <td>0.0</td>\n",
              "      <td>0.0</td>\n",
              "      <td>0.0</td>\n",
              "      <td>0.0</td>\n",
              "      <td>0.0</td>\n",
              "      <td>1.0</td>\n",
              "      <td>MILD</td>\n",
              "      <td>0</td>\n",
              "      <td>1</td>\n",
              "      <td>0</td>\n",
              "      <td>0</td>\n",
              "      <td>0</td>\n",
              "      <td>0</td>\n",
              "      <td>0</td>\n",
              "    </tr>\n",
              "    <tr>\n",
              "      <th>4</th>\n",
              "      <td>112</td>\n",
              "      <td>P_16.png</td>\n",
              "      <td>A</td>\n",
              "      <td>44.000000</td>\n",
              "      <td>0</td>\n",
              "      <td>1.0</td>\n",
              "      <td>38.0</td>\n",
              "      <td>3.0</td>\n",
              "      <td>1.0</td>\n",
              "      <td>0.0</td>\n",
              "      <td>6.64</td>\n",
              "      <td>5.55</td>\n",
              "      <td>5.20</td>\n",
              "      <td>NaN</td>\n",
              "      <td>126.0</td>\n",
              "      <td>NaN</td>\n",
              "      <td>NaN</td>\n",
              "      <td>NaN</td>\n",
              "      <td>NaN</td>\n",
              "      <td>93.0</td>\n",
              "      <td>65.0</td>\n",
              "      <td>94.0</td>\n",
              "      <td>37.0</td>\n",
              "      <td>7.47</td>\n",
              "      <td>0.0</td>\n",
              "      <td>0.0</td>\n",
              "      <td>0.0</td>\n",
              "      <td>0.0</td>\n",
              "      <td>0.0</td>\n",
              "      <td>0.0</td>\n",
              "      <td>0.0</td>\n",
              "      <td>0.0</td>\n",
              "      <td>0.0</td>\n",
              "      <td>0.0</td>\n",
              "      <td>0.0</td>\n",
              "      <td>0.0</td>\n",
              "      <td>0.0</td>\n",
              "      <td>0.0</td>\n",
              "      <td>SEVERE</td>\n",
              "      <td>0</td>\n",
              "      <td>1</td>\n",
              "      <td>0</td>\n",
              "      <td>0</td>\n",
              "      <td>0</td>\n",
              "      <td>0</td>\n",
              "      <td>0</td>\n",
              "    </tr>\n",
              "  </tbody>\n",
              "</table>\n",
              "</div>\n",
              "      <button class=\"colab-df-convert\" onclick=\"convertToInteractive('df-9c0d5dfb-52de-4fa2-8332-ef74c98afdcb')\"\n",
              "              title=\"Convert this dataframe to an interactive table.\"\n",
              "              style=\"display:none;\">\n",
              "        \n",
              "  <svg xmlns=\"http://www.w3.org/2000/svg\" height=\"24px\"viewBox=\"0 0 24 24\"\n",
              "       width=\"24px\">\n",
              "    <path d=\"M0 0h24v24H0V0z\" fill=\"none\"/>\n",
              "    <path d=\"M18.56 5.44l.94 2.06.94-2.06 2.06-.94-2.06-.94-.94-2.06-.94 2.06-2.06.94zm-11 1L8.5 8.5l.94-2.06 2.06-.94-2.06-.94L8.5 2.5l-.94 2.06-2.06.94zm10 10l.94 2.06.94-2.06 2.06-.94-2.06-.94-.94-2.06-.94 2.06-2.06.94z\"/><path d=\"M17.41 7.96l-1.37-1.37c-.4-.4-.92-.59-1.43-.59-.52 0-1.04.2-1.43.59L10.3 9.45l-7.72 7.72c-.78.78-.78 2.05 0 2.83L4 21.41c.39.39.9.59 1.41.59.51 0 1.02-.2 1.41-.59l7.78-7.78 2.81-2.81c.8-.78.8-2.07 0-2.86zM5.41 20L4 18.59l7.72-7.72 1.47 1.35L5.41 20z\"/>\n",
              "  </svg>\n",
              "      </button>\n",
              "      \n",
              "  <style>\n",
              "    .colab-df-container {\n",
              "      display:flex;\n",
              "      flex-wrap:wrap;\n",
              "      gap: 12px;\n",
              "    }\n",
              "\n",
              "    .colab-df-convert {\n",
              "      background-color: #E8F0FE;\n",
              "      border: none;\n",
              "      border-radius: 50%;\n",
              "      cursor: pointer;\n",
              "      display: none;\n",
              "      fill: #1967D2;\n",
              "      height: 32px;\n",
              "      padding: 0 0 0 0;\n",
              "      width: 32px;\n",
              "    }\n",
              "\n",
              "    .colab-df-convert:hover {\n",
              "      background-color: #E2EBFA;\n",
              "      box-shadow: 0px 1px 2px rgba(60, 64, 67, 0.3), 0px 1px 3px 1px rgba(60, 64, 67, 0.15);\n",
              "      fill: #174EA6;\n",
              "    }\n",
              "\n",
              "    [theme=dark] .colab-df-convert {\n",
              "      background-color: #3B4455;\n",
              "      fill: #D2E3FC;\n",
              "    }\n",
              "\n",
              "    [theme=dark] .colab-df-convert:hover {\n",
              "      background-color: #434B5C;\n",
              "      box-shadow: 0px 1px 3px 1px rgba(0, 0, 0, 0.15);\n",
              "      filter: drop-shadow(0px 1px 2px rgba(0, 0, 0, 0.3));\n",
              "      fill: #FFFFFF;\n",
              "    }\n",
              "  </style>\n",
              "\n",
              "      <script>\n",
              "        const buttonEl =\n",
              "          document.querySelector('#df-9c0d5dfb-52de-4fa2-8332-ef74c98afdcb button.colab-df-convert');\n",
              "        buttonEl.style.display =\n",
              "          google.colab.kernel.accessAllowed ? 'block' : 'none';\n",
              "\n",
              "        async function convertToInteractive(key) {\n",
              "          const element = document.querySelector('#df-9c0d5dfb-52de-4fa2-8332-ef74c98afdcb');\n",
              "          const dataTable =\n",
              "            await google.colab.kernel.invokeFunction('convertToInteractive',\n",
              "                                                     [key], {});\n",
              "          if (!dataTable) return;\n",
              "\n",
              "          const docLinkHtml = 'Like what you see? Visit the ' +\n",
              "            '<a target=\"_blank\" href=https://colab.research.google.com/notebooks/data_table.ipynb>data table notebook</a>'\n",
              "            + ' to learn more about interactive tables.';\n",
              "          element.innerHTML = '';\n",
              "          dataTable['output_type'] = 'display_data';\n",
              "          await google.colab.output.renderOutput(dataTable, element);\n",
              "          const docLink = document.createElement('div');\n",
              "          docLink.innerHTML = docLinkHtml;\n",
              "          element.appendChild(docLink);\n",
              "        }\n",
              "      </script>\n",
              "    </div>\n",
              "  </div>\n",
              "  "
            ],
            "text/plain": [
              "   Row_number  ImageFile Hospital  ...  Hospital_F  Hospital_B  Hospital_C\n",
              "0          82  P_102.png        A  ...           0           0           0\n",
              "1         228  P_131.png        D  ...           0           0           0\n",
              "2         229  P_132.png        D  ...           0           0           0\n",
              "3          96  P_117.png        A  ...           0           0           0\n",
              "4         112   P_16.png        A  ...           0           0           0\n",
              "\n",
              "[5 rows x 46 columns]"
            ]
          },
          "metadata": {},
          "execution_count": 104
        }
      ]
    },
    {
      "cell_type": "code",
      "source": [
        "imputed_df = df.copy()"
      ],
      "metadata": {
        "id": "KgbVD5YS7vJB"
      },
      "execution_count": 4,
      "outputs": []
    },
    {
      "cell_type": "code",
      "source": [
        "# Impute the data with the mean of each column\n",
        "features_to_impute = ['Age', 'PositivityAtAdmission', 'Temp_C', 'DaysFever',\n",
        "                      'Cough', 'DifficultyInBreathing', 'WBC', 'RBC', 'CRP', \n",
        "                      'Fibrinogen', 'Glucose', 'PCT', 'LDH', 'INR', 'D_dimer',\n",
        "                      'Ox_percentage', 'PaO2', 'SaO2', 'PaCO2', 'pH',\n",
        "                      'CardiovascularDisease', 'IschemicHeartDisease', \n",
        "                      'AtrialFibrillation', 'HeartFailure', 'Ictus',\n",
        "                      'HighBloodPressure', 'Diabetes', 'Dementia', 'BPCO',\n",
        "                      'Cancer', 'ChronicKidneyDisease', 'RespiratoryFailure',\n",
        "                      'Obesity', 'Position']\n",
        "\n",
        "features_to_impute_2 = ['Age', 'PositivityAtAdmission', 'Temp_C',\n",
        "                      'Cough', 'DifficultyInBreathing', 'WBC', 'RBC', 'CRP', \n",
        "                      'CardiovascularDisease', 'IschemicHeartDisease', \n",
        "                      'AtrialFibrillation', 'HeartFailure', 'Ictus',\n",
        "                      'HighBloodPressure', 'Diabetes', 'Dementia', 'BPCO',\n",
        "                      'Cancer', 'ChronicKidneyDisease', 'RespiratoryFailure'\n",
        "                      ]\n",
        "\n",
        "for feature in features_to_impute:\n",
        "    imputed_df[feature] = imputed_df[feature].fillna(imputed_df[feature].mean())"
      ],
      "metadata": {
        "id": "g_xKqnc32Fse"
      },
      "execution_count": 5,
      "outputs": []
    },
    {
      "cell_type": "code",
      "source": [
        "features_to_use = ['Sex','Age', 'PositivityAtAdmission', 'Temp_C', 'DaysFever',\n",
        "                      'Cough', 'DifficultyInBreathing', 'WBC', 'RBC', 'CRP', \n",
        "                      'Fibrinogen', 'Glucose', 'PCT', 'LDH', 'INR', 'D_dimer',\n",
        "                      'Ox_percentage', 'PaO2', 'SaO2', 'PaCO2', 'pH',\n",
        "                      'CardiovascularDisease', 'IschemicHeartDisease', \n",
        "                      'AtrialFibrillation', 'HeartFailure', 'Ictus',\n",
        "                      'HighBloodPressure', 'Diabetes', 'Dementia', 'BPCO',\n",
        "                      'Cancer', 'ChronicKidneyDisease', 'RespiratoryFailure',\n",
        "                      'Obesity', 'Position'] #, 'Hospital_A', 'Hospital_B',\n",
        "                      #'Hospital_C', 'Hospital_D', 'Hospital_E', 'Hospital_F']\n",
        "\n",
        "features_to_use_2 = ['Sex','Age', 'PositivityAtAdmission', 'Temp_C', 'DaysFever',\n",
        "                      'Cough', 'DifficultyInBreathing', 'WBC', 'RBC', 'CRP',\n",
        "                      'CardiovascularDisease', 'IschemicHeartDisease', \n",
        "                      'AtrialFibrillation', 'HeartFailure', 'Ictus',\n",
        "                      'HighBloodPressure', 'Diabetes', 'Dementia', 'BPCO',\n",
        "                      'Cancer', 'ChronicKidneyDisease', 'RespiratoryFailure']\n",
        "\n",
        "target_feature = 'Prognosis'"
      ],
      "metadata": {
        "id": "FmUr_qcv72M4"
      },
      "execution_count": 9,
      "outputs": []
    },
    {
      "cell_type": "code",
      "source": [
        "# Z score normalization on Non Binary variables\n",
        "non_binary_variables = ['Age', 'Temp_C', 'DaysFever', 'WBC', 'RBC', 'CRP',\n",
        "                        'Fibrinogen', 'Glucose', 'PCT', 'LDH', 'INR', 'D_dimer',\n",
        "                        'Ox_percentage', 'PaO2', 'SaO2','PaCO2', 'pH']\n",
        "\n",
        "# Extract and normalize them\n",
        "#non_binary_values = imputed_df[non_binary_variables].to_numpy(copy=True)\n",
        "#scaler = preprocessing.StandardScaler().fit(non_binary_values)\n",
        "#non_binary_values = scaler.transform(non_binary_values)\n",
        "\n",
        "for var in non_binary_variables:\n",
        "  imputed_df[var] = (imputed_df[var] - imputed_df[var].mean()) / imputed_df[var].std()\n"
      ],
      "metadata": {
        "id": "bvw7Ajo_6PxF"
      },
      "execution_count": 7,
      "outputs": []
    },
    {
      "cell_type": "code",
      "source": [
        "X = imputed_df[features_to_use].to_numpy(copy=True)\n",
        "Y = imputed_df[target_feature].to_numpy(copy=True)"
      ],
      "metadata": {
        "id": "75ptAhFh84W9"
      },
      "execution_count": 10,
      "outputs": []
    },
    {
      "cell_type": "code",
      "source": [
        "print(X.shape, Y.shape)"
      ],
      "metadata": {
        "colab": {
          "base_uri": "https://localhost:8080/"
        },
        "id": "3tvdlz_rAM2f",
        "outputId": "836a482d-dd87-4e83-8b9e-717531adb489"
      },
      "execution_count": 11,
      "outputs": [
        {
          "output_type": "stream",
          "name": "stdout",
          "text": [
            "(1103, 35) (1103,)\n"
          ]
        }
      ]
    },
    {
      "cell_type": "markdown",
      "source": [
        "### XGBoost Classifier"
      ],
      "metadata": {
        "id": "v_dKrFQ2KH0z"
      }
    },
    {
      "cell_type": "code",
      "source": [
        "xgb_classifier = XGBClassifier(n_estimators=100,\n",
        "                               objective='binary:logistic') \n",
        "results = cross_val_score(xgb_classifier, X, Y, scoring='accuracy')\n",
        "print(results)\n",
        "print(f\"Average accuraccy accross all the folds: {results.mean()}\")"
      ],
      "metadata": {
        "colab": {
          "base_uri": "https://localhost:8080/"
        },
        "id": "yO1UikF9B6sS",
        "outputId": "7eaf3a84-9567-47ec-adb2-d58da1584a6a"
      },
      "execution_count": 145,
      "outputs": [
        {
          "output_type": "stream",
          "name": "stdout",
          "text": [
            "[0.64705882 0.66968326 0.66968326 0.64545455 0.73181818]\n",
            "Average accuraccy accross all the folds: 0.6727396133278487\n"
          ]
        }
      ]
    },
    {
      "cell_type": "markdown",
      "source": [
        "### Other Scikit learn classifiers"
      ],
      "metadata": {
        "id": "khEoSXz3MuDh"
      }
    },
    {
      "cell_type": "code",
      "source": [
        "model_1 = GradientBoostingClassifier(loss=\"deviance\", learning_rate=0.1, n_estimators=200, verbose=0)\n",
        "\n",
        "results_1 = cross_val_score(model_1, X, Y, scoring='accuracy')\n",
        "print(f\"Gradient Boosting Results: {results_1.mean()}\")"
      ],
      "metadata": {
        "colab": {
          "base_uri": "https://localhost:8080/"
        },
        "id": "fydFy3PoQieO",
        "outputId": "c22652f3-bef1-40c1-8e1e-3fba8bcc6c55"
      },
      "execution_count": 146,
      "outputs": [
        {
          "output_type": "stream",
          "name": "stdout",
          "text": [
            "Gradient Boosting Results: 0.6528177704648293\n"
          ]
        }
      ]
    },
    {
      "cell_type": "code",
      "source": [
        "model_2 = svm.LinearSVC(C=1000, tol=0.1, loss='hinge', max_iter=5000)\n",
        "\n",
        "results_2 = cross_val_score(model_2, X, Y, scoring='accuracy')\n",
        "print(f\"Linear SVM Results: {results_2.mean()}\")"
      ],
      "metadata": {
        "colab": {
          "base_uri": "https://localhost:8080/"
        },
        "id": "7qYTUVg7QlYD",
        "outputId": "d9b718d2-3150-4d4d-8311-3c57c0f5e285"
      },
      "execution_count": 147,
      "outputs": [
        {
          "output_type": "stream",
          "name": "stderr",
          "text": [
            "/usr/local/lib/python3.7/dist-packages/sklearn/svm/_base.py:1208: ConvergenceWarning: Liblinear failed to converge, increase the number of iterations.\n",
            "  ConvergenceWarning,\n",
            "/usr/local/lib/python3.7/dist-packages/sklearn/svm/_base.py:1208: ConvergenceWarning: Liblinear failed to converge, increase the number of iterations.\n",
            "  ConvergenceWarning,\n",
            "/usr/local/lib/python3.7/dist-packages/sklearn/svm/_base.py:1208: ConvergenceWarning: Liblinear failed to converge, increase the number of iterations.\n",
            "  ConvergenceWarning,\n",
            "/usr/local/lib/python3.7/dist-packages/sklearn/svm/_base.py:1208: ConvergenceWarning: Liblinear failed to converge, increase the number of iterations.\n",
            "  ConvergenceWarning,\n"
          ]
        },
        {
          "output_type": "stream",
          "name": "stdout",
          "text": [
            "Linear SVM Results: 0.6074454956807898\n"
          ]
        },
        {
          "output_type": "stream",
          "name": "stderr",
          "text": [
            "/usr/local/lib/python3.7/dist-packages/sklearn/svm/_base.py:1208: ConvergenceWarning: Liblinear failed to converge, increase the number of iterations.\n",
            "  ConvergenceWarning,\n"
          ]
        }
      ]
    },
    {
      "cell_type": "code",
      "source": [
        "model_3 = svm.SVC()\n",
        "\n",
        "results_3 = cross_val_score(model_3, X, Y, scoring='accuracy')\n",
        "print(f\"SVM with RBF kernel Results: {results_3.mean()}\")"
      ],
      "metadata": {
        "colab": {
          "base_uri": "https://localhost:8080/"
        },
        "id": "cQaASpFiQndL",
        "outputId": "1e2e980c-2d18-40d0-8bc0-6d2e8f147acb"
      },
      "execution_count": 148,
      "outputs": [
        {
          "output_type": "stream",
          "name": "stdout",
          "text": [
            "SVM with RBF kernel Results: 0.6518716577540108\n"
          ]
        }
      ]
    },
    {
      "cell_type": "code",
      "source": [
        "model_4 = SGDClassifier(alpha=1e-5, loss='squared_hinge', n_jobs=-1, tol=0.001)\n",
        "\n",
        "results_4 = cross_val_score(model_4, X, Y, scoring='accuracy')\n",
        "print(f\"SGD Classifier Results: {results_4.mean()}\")"
      ],
      "metadata": {
        "colab": {
          "base_uri": "https://localhost:8080/"
        },
        "id": "GHzml9EBQyKa",
        "outputId": "2610b64d-247a-4d7f-c7fc-51e00664612c"
      },
      "execution_count": 149,
      "outputs": [
        {
          "output_type": "stream",
          "name": "stdout",
          "text": [
            "SGD Classifier Results: 0.5838420403126285\n"
          ]
        }
      ]
    },
    {
      "cell_type": "code",
      "source": [
        "model_5 = neighbors.KNeighborsClassifier(n_neighbors=20)\n",
        "\n",
        "results_5 = cross_val_score(model_5, X, Y, scoring='accuracy')\n",
        "print(f\"K nearest neighbours Results: {results_5.mean()}\")"
      ],
      "metadata": {
        "colab": {
          "base_uri": "https://localhost:8080/"
        },
        "id": "mKihOwoiQ0xa",
        "outputId": "ed6f2f76-bc57-4357-86cf-98fccd82ea88"
      },
      "execution_count": 150,
      "outputs": [
        {
          "output_type": "stream",
          "name": "stdout",
          "text": [
            "K nearest neighbours Results: 0.6418881118881119\n"
          ]
        }
      ]
    },
    {
      "cell_type": "code",
      "source": [
        "model_6 = RandomForestClassifier(n_estimators=1000)\n",
        "\n",
        "results_6 = cross_val_score(model_6, X, Y, scoring='accuracy')\n",
        "print(f\"Random Forest Results: {results_6.mean()}\")"
      ],
      "metadata": {
        "colab": {
          "base_uri": "https://localhost:8080/"
        },
        "id": "AwLDv6MWQ2Uu",
        "outputId": "93830de7-415e-4cf0-9aa5-22a011d15163"
      },
      "execution_count": 153,
      "outputs": [
        {
          "output_type": "stream",
          "name": "stdout",
          "text": [
            "Random Forest Results: 0.6799794323323736\n"
          ]
        }
      ]
    },
    {
      "cell_type": "code",
      "source": [
        "model_7 = LogisticRegression(max_iter=1000)\n",
        "\n",
        "results_7 = cross_val_score(model_7, X, Y, scoring='accuracy')\n",
        "print(f\"Logistic Regression Results: {results_7.mean()}\")"
      ],
      "metadata": {
        "colab": {
          "base_uri": "https://localhost:8080/"
        },
        "id": "woAo196QQ436",
        "outputId": "13fecc8b-647d-4e8a-9344-892737d326a4"
      },
      "execution_count": 154,
      "outputs": [
        {
          "output_type": "stream",
          "name": "stdout",
          "text": [
            "Logistic Regression Results: 0.6564500205676677\n"
          ]
        }
      ]
    },
    {
      "cell_type": "code",
      "source": [
        "model_8 = DecisionTreeClassifier()\n",
        "\n",
        "results_8 = cross_val_score(model_8, X, Y, scoring='accuracy')\n",
        "print(f\"Decision Tree Results: {results_8.mean()}\")"
      ],
      "metadata": {
        "colab": {
          "base_uri": "https://localhost:8080/"
        },
        "id": "FIDIPhvWQ8X2",
        "outputId": "fd62d6e9-4f91-4450-9b98-f4f2288cfed4"
      },
      "execution_count": 155,
      "outputs": [
        {
          "output_type": "stream",
          "name": "stdout",
          "text": [
            "Decision Tree Results: 0.5838584944467298\n"
          ]
        }
      ]
    },
    {
      "cell_type": "code",
      "source": [
        "model_9 = MLPClassifier(hidden_layer_sizes=(32, 16),\n",
        "                                activation=\"relu\",\n",
        "                                solver=\"adam\",\n",
        "                                alpha=0.0001, \n",
        "                                batch_size=100, \n",
        "                                learning_rate_init=0.001,\n",
        "                                max_iter=20000,\n",
        "                                shuffle=True,\n",
        "                                verbose=False, \n",
        "                                warm_start=False)\n",
        "\n",
        "results_9 = cross_val_score(model_9, X, Y, scoring='accuracy')\n",
        "print(f\" Results: {results_9.mean()}\")"
      ],
      "metadata": {
        "colab": {
          "base_uri": "https://localhost:8080/"
        },
        "id": "LrAqIwlPQ9st",
        "outputId": "00ce712f-533d-4f0f-f879-7479e7c7cc38"
      },
      "execution_count": 152,
      "outputs": [
        {
          "output_type": "stream",
          "name": "stdout",
          "text": [
            " Results: 0.6146976552858906\n"
          ]
        }
      ]
    },
    {
      "cell_type": "code",
      "source": [
        "print(f\"Gradient Boosting Results: {results_1.mean()}\")\n",
        "print(f\"Linear SVM Results: {results_2.mean()}\")\n",
        "print(f\"SVM with RBF kernel Results: {results_3.mean()}\")\n",
        "print(f\"SGD Classifier Results: {results_4.mean()}\")\n",
        "print(f\"K nearest neighbours Results: {results_5.mean()}\")\n",
        "print(f\"Random Forest Results: {results_6.mean()}\")\n",
        "print(f\"Logistic Regression Results: {results_7.mean()}\")\n",
        "print(f\"Decision Tree Results: {results_8.mean()}\")\n",
        "print(f\"MLP Results: {results_9.mean()}\")"
      ],
      "metadata": {
        "colab": {
          "base_uri": "https://localhost:8080/"
        },
        "id": "mX1WZGkDO3Rz",
        "outputId": "303d21b3-ba0b-4e50-dc7c-0758eed761b4"
      },
      "execution_count": 126,
      "outputs": [
        {
          "output_type": "stream",
          "name": "stdout",
          "text": [
            "Gradient Boosting Results: 0.7135129576306047\n",
            "Linear SVM Results: 0.5802550390785685\n",
            "SVM with RBF kernel Results: 0.6092060880296175\n",
            "SGD Classifier Results: 0.5648004936240231\n",
            "K nearest neighbours Results: 0.6636528177704648\n",
            "Random Forest Results: 0.7343562320032909\n",
            "Logistic Regression Results: 0.7370876182640889\n",
            "Decision Tree Results: 0.6291772932949403\n",
            "MLP Results: 0.6708021390374331\n"
          ]
        }
      ]
    },
    {
      "cell_type": "markdown",
      "source": [
        "### Grid search Cross Validation"
      ],
      "metadata": {
        "id": "j_X3UrUKOYvP"
      }
    },
    {
      "cell_type": "code",
      "source": [
        "# Gradient Boosting Classifier\n",
        "model_1 = GradientBoostingClassifier()\n",
        "params_1 = {\n",
        "    \"loss\": [\"deviance\", \"exponential\"],\n",
        "    \"learning_rate\": [0.1, 0.01, 0.001, 0.0001],\n",
        "    \"n_estimators\": [150, 250, 350, 450, 550],\n",
        "}\n",
        "\n",
        "\n",
        "# Linear SVC\n",
        "model_2 = svm.LinearSVC()\n",
        "params_2 = {\n",
        "    \"loss\": [\"hinge\", \"squared_hinge\"],\n",
        "    \"C\": [1, 10, 100, 1000],\n",
        "    \"tol\": [0.01, 0.1, 1, 10, 50],\n",
        "    \"max_iter\": [100000],\n",
        "}\n",
        "\n",
        "\n",
        "# SVC with RBF kernel\n",
        "model_3 = svm.SVC()\n",
        "params_3 = {\n",
        "    \"kernel\": [\"linear\", \"poly\", \"rbf\", \"sigmoid\"]\n",
        "}\n",
        "\n",
        "# SGD Classifier\n",
        "model_4 = SGDClassifier()\n",
        "params_4 = {\n",
        "    \"loss\": [\"hinge\", \"squared_hinge\", \"perceptron\"],\n",
        "    \"alpha\": [0.1, 0.01, 0.001, 0.0001],\n",
        "    \"tol\": [0.01, 0.1, 10],\n",
        "    \"n_jobs\": [-1],\n",
        "}\n",
        "\n",
        "# KNN\n",
        "model_5 = neighbors.KNeighborsClassifier()\n",
        "params_5 = {\"n_neighbors\": [10, 20, 30, 40, 50] }\n",
        "\n",
        "\n",
        "# Random Forest - Should not be estimated with grid search\n",
        "# First, find best parameters with one Decision Tree and then use them for RF\n",
        "model_6 = RandomForestClassifier()\n",
        "params_6 = {\n",
        "    \"criterion\": [\"gini\", \"entropy\"],\n",
        "    \"n_estimators\": [100, 200, 500, 1000]\n",
        "}\n",
        "\n",
        "# Logistic Regression\n",
        "model_7 = LogisticRegression()\n",
        "params_7 = {\n",
        "    \"penalty\": [\"l1\", \"l2\", \"elasticnet\"],\n",
        "    \"solver\": [\"newton-cg\", \"lbfgs\", \"liblinear\", \"sag\", \"saga\"],\n",
        "    \"fit_intercept\": [True, False],\n",
        "    \"tol\": [0.01, 0.001, 0.0001]\n",
        "}\n",
        "\n",
        "# Decision Tree\n",
        "model_8 = DecisionTreeClassifier()\n",
        "params_8 = {\n",
        "    \"criterion\": [\"gini\", \"entropy\"],\n",
        "    \"splitter\": [\"best\", \"random\"]\n",
        "}\n",
        "\n",
        "# Multi Layer Perceptron\n",
        "model_9 = MLPClassifier(\n",
        "                    max_iter=20000,\n",
        "                    verbose=False,\n",
        "                    warm_start=False,\n",
        "                )\n",
        "params_9 = {\n",
        "    \"hidden_layer_sizes\": [\n",
        "        (32, 16)\n",
        "    ],\n",
        "    \"solver\": [\"adam\", \"sgd\"],\n",
        "    \"alpha\": [0.00001, 0.0001],\n",
        "    \"activation\": [\"logistic\", \"relu\"],\n",
        "    \"learning_rate\": [\"constant\"],#, \"adaptive\"],\n",
        "    \"learning_rate_init\": [0.1, 0.01, 0.001, 0.0001, 0.00001],\n",
        "}\n"
      ],
      "metadata": {
        "id": "gtrkRzTQKWHX"
      },
      "execution_count": 48,
      "outputs": []
    },
    {
      "cell_type": "code",
      "source": [
        "classifier1 = GridSearchCV(model_1, params_1, cv=5, n_jobs=-1, verbose=1, scoring=\"accuracy\")\n",
        "classifier1.fit(X, Y)\n",
        "print(classifier1.best_score_)\n",
        "print(classifier1.best_params_)"
      ],
      "metadata": {
        "colab": {
          "base_uri": "https://localhost:8080/"
        },
        "id": "A8hLbF6-OAnU",
        "outputId": "86d478ef-f229-4f9b-e5ac-b517a39a60e7"
      },
      "execution_count": 14,
      "outputs": [
        {
          "output_type": "stream",
          "name": "stdout",
          "text": [
            "Fitting 5 folds for each of 40 candidates, totalling 200 fits\n",
            "0.7198519127930891\n",
            "{'learning_rate': 0.1, 'loss': 'deviance', 'n_estimators': 450}\n"
          ]
        }
      ]
    },
    {
      "cell_type": "code",
      "source": [
        "classifier2 = GridSearchCV(model_2, params_2, cv=5, n_jobs=-1, verbose=1, scoring=\"accuracy\")\n",
        "classifier2.fit(X, Y)\n",
        "print(classifier2.best_score_)\n",
        "print(classifier2.best_params_)"
      ],
      "metadata": {
        "colab": {
          "base_uri": "https://localhost:8080/"
        },
        "id": "-sDEHtlZ6t8n",
        "outputId": "53e6fbc6-ead3-44f6-bea0-aa93228f140f"
      },
      "execution_count": 23,
      "outputs": [
        {
          "output_type": "stream",
          "name": "stdout",
          "text": [
            "Fitting 5 folds for each of 40 candidates, totalling 200 fits\n",
            "0.7343562320032909\n",
            "{'C': 10, 'loss': 'hinge', 'max_iter': 100000, 'tol': 0.01}\n"
          ]
        }
      ]
    },
    {
      "cell_type": "code",
      "source": [
        "classifier3 = GridSearchCV(model_3, params_3, cv=5, n_jobs=-1, verbose=1, scoring=\"accuracy\")\n",
        "classifier3.fit(X, Y)\n",
        "print(classifier3.best_score_)\n",
        "print(classifier3.best_params_)"
      ],
      "metadata": {
        "id": "40IaUDFL6ys_",
        "colab": {
          "base_uri": "https://localhost:8080/"
        },
        "outputId": "b5763c28-758f-4111-d5d4-098adaafc8f5"
      },
      "execution_count": 24,
      "outputs": [
        {
          "output_type": "stream",
          "name": "stdout",
          "text": [
            "Fitting 5 folds for each of 4 candidates, totalling 20 fits\n",
            "0.7316289592760181\n",
            "{'kernel': 'linear'}\n"
          ]
        }
      ]
    },
    {
      "cell_type": "code",
      "source": [
        "classifier4 = GridSearchCV(model_4, params_4, cv=5, n_jobs=-1, verbose=1, scoring=\"accuracy\")\n",
        "classifier4.fit(X, Y)\n",
        "print(classifier4.best_score_)\n",
        "print(classifier4.best_params_)"
      ],
      "metadata": {
        "colab": {
          "base_uri": "https://localhost:8080/"
        },
        "id": "e1arTYBFyLVb",
        "outputId": "182bb4b2-ee1a-4589-f4b9-53deb71f61fb"
      },
      "execution_count": 25,
      "outputs": [
        {
          "output_type": "stream",
          "name": "stdout",
          "text": [
            "Fitting 5 folds for each of 36 candidates, totalling 180 fits\n",
            "0.7262320032908267\n",
            "{'alpha': 0.01, 'loss': 'hinge', 'n_jobs': -1, 'tol': 10}\n"
          ]
        }
      ]
    },
    {
      "cell_type": "code",
      "source": [
        "classifier5 = GridSearchCV(model_5, params_5, cv=5, n_jobs=-1, verbose=1, scoring=\"accuracy\")\n",
        "classifier5.fit(X, Y)\n",
        "print(classifier5.best_score_)\n",
        "print(classifier5.best_params_)"
      ],
      "metadata": {
        "colab": {
          "base_uri": "https://localhost:8080/"
        },
        "id": "ebE9Zjd1bn6l",
        "outputId": "df00a7db-98b1-437a-a515-4318147b8f12"
      },
      "execution_count": 26,
      "outputs": [
        {
          "output_type": "stream",
          "name": "stdout",
          "text": [
            "Fitting 5 folds for each of 5 candidates, totalling 25 fits\n",
            "0.6808350473056355\n",
            "{'n_neighbors': 20}\n"
          ]
        }
      ]
    },
    {
      "cell_type": "code",
      "source": [
        "classifier6 = GridSearchCV(model_6, params_6, cv=5, n_jobs=-1, verbose=1, scoring=\"accuracy\")\n",
        "classifier6.fit(X, Y)\n",
        "print(classifier6.best_score_)\n",
        "print(classifier6.best_params_)"
      ],
      "metadata": {
        "colab": {
          "base_uri": "https://localhost:8080/"
        },
        "id": "kCj-wmzJe15s",
        "outputId": "00c48388-ab99-4a96-d26a-5f9a8134d615"
      },
      "execution_count": 49,
      "outputs": [
        {
          "output_type": "stream",
          "name": "stdout",
          "text": [
            "Fitting 5 folds for each of 8 candidates, totalling 40 fits\n",
            "0.7416042780748663\n",
            "{'criterion': 'entropy', 'n_estimators': 100}\n"
          ]
        }
      ]
    },
    {
      "cell_type": "code",
      "source": [
        "classifier7 = GridSearchCV(model_7, params_7, cv=5, n_jobs=-1, verbose=1, scoring=\"accuracy\")\n",
        "classifier7.fit(X, Y)\n",
        "print(classifier7.best_score_)\n",
        "print(classifier7.best_params_)"
      ],
      "metadata": {
        "colab": {
          "base_uri": "https://localhost:8080/"
        },
        "id": "RuVy_LCHb2P2",
        "outputId": "3f72b8b2-0cf2-4c3e-f256-d9b7a46d8091"
      },
      "execution_count": 37,
      "outputs": [
        {
          "output_type": "stream",
          "name": "stdout",
          "text": [
            "Fitting 5 folds for each of 90 candidates, totalling 450 fits\n",
            "0.7334512546277252\n",
            "{'fit_intercept': False, 'penalty': 'l2', 'solver': 'sag', 'tol': 0.01}\n"
          ]
        },
        {
          "output_type": "stream",
          "name": "stderr",
          "text": [
            "/usr/local/lib/python3.7/dist-packages/sklearn/model_selection/_validation.py:372: FitFailedWarning: \n",
            "240 fits failed out of a total of 450.\n",
            "The score on these train-test partitions for these parameters will be set to nan.\n",
            "If these failures are not expected, you can try to debug them by setting error_score='raise'.\n",
            "\n",
            "Below are more details about the failures:\n",
            "--------------------------------------------------------------------------------\n",
            "30 fits failed with the following error:\n",
            "Traceback (most recent call last):\n",
            "  File \"/usr/local/lib/python3.7/dist-packages/sklearn/model_selection/_validation.py\", line 680, in _fit_and_score\n",
            "    estimator.fit(X_train, y_train, **fit_params)\n",
            "  File \"/usr/local/lib/python3.7/dist-packages/sklearn/linear_model/_logistic.py\", line 1461, in fit\n",
            "    solver = _check_solver(self.solver, self.penalty, self.dual)\n",
            "  File \"/usr/local/lib/python3.7/dist-packages/sklearn/linear_model/_logistic.py\", line 449, in _check_solver\n",
            "    % (solver, penalty)\n",
            "ValueError: Solver newton-cg supports only 'l2' or 'none' penalties, got l1 penalty.\n",
            "\n",
            "--------------------------------------------------------------------------------\n",
            "30 fits failed with the following error:\n",
            "Traceback (most recent call last):\n",
            "  File \"/usr/local/lib/python3.7/dist-packages/sklearn/model_selection/_validation.py\", line 680, in _fit_and_score\n",
            "    estimator.fit(X_train, y_train, **fit_params)\n",
            "  File \"/usr/local/lib/python3.7/dist-packages/sklearn/linear_model/_logistic.py\", line 1461, in fit\n",
            "    solver = _check_solver(self.solver, self.penalty, self.dual)\n",
            "  File \"/usr/local/lib/python3.7/dist-packages/sklearn/linear_model/_logistic.py\", line 449, in _check_solver\n",
            "    % (solver, penalty)\n",
            "ValueError: Solver lbfgs supports only 'l2' or 'none' penalties, got l1 penalty.\n",
            "\n",
            "--------------------------------------------------------------------------------\n",
            "30 fits failed with the following error:\n",
            "Traceback (most recent call last):\n",
            "  File \"/usr/local/lib/python3.7/dist-packages/sklearn/model_selection/_validation.py\", line 680, in _fit_and_score\n",
            "    estimator.fit(X_train, y_train, **fit_params)\n",
            "  File \"/usr/local/lib/python3.7/dist-packages/sklearn/linear_model/_logistic.py\", line 1461, in fit\n",
            "    solver = _check_solver(self.solver, self.penalty, self.dual)\n",
            "  File \"/usr/local/lib/python3.7/dist-packages/sklearn/linear_model/_logistic.py\", line 449, in _check_solver\n",
            "    % (solver, penalty)\n",
            "ValueError: Solver sag supports only 'l2' or 'none' penalties, got l1 penalty.\n",
            "\n",
            "--------------------------------------------------------------------------------\n",
            "30 fits failed with the following error:\n",
            "Traceback (most recent call last):\n",
            "  File \"/usr/local/lib/python3.7/dist-packages/sklearn/model_selection/_validation.py\", line 680, in _fit_and_score\n",
            "    estimator.fit(X_train, y_train, **fit_params)\n",
            "  File \"/usr/local/lib/python3.7/dist-packages/sklearn/linear_model/_logistic.py\", line 1461, in fit\n",
            "    solver = _check_solver(self.solver, self.penalty, self.dual)\n",
            "  File \"/usr/local/lib/python3.7/dist-packages/sklearn/linear_model/_logistic.py\", line 449, in _check_solver\n",
            "    % (solver, penalty)\n",
            "ValueError: Solver newton-cg supports only 'l2' or 'none' penalties, got elasticnet penalty.\n",
            "\n",
            "--------------------------------------------------------------------------------\n",
            "30 fits failed with the following error:\n",
            "Traceback (most recent call last):\n",
            "  File \"/usr/local/lib/python3.7/dist-packages/sklearn/model_selection/_validation.py\", line 680, in _fit_and_score\n",
            "    estimator.fit(X_train, y_train, **fit_params)\n",
            "  File \"/usr/local/lib/python3.7/dist-packages/sklearn/linear_model/_logistic.py\", line 1461, in fit\n",
            "    solver = _check_solver(self.solver, self.penalty, self.dual)\n",
            "  File \"/usr/local/lib/python3.7/dist-packages/sklearn/linear_model/_logistic.py\", line 449, in _check_solver\n",
            "    % (solver, penalty)\n",
            "ValueError: Solver lbfgs supports only 'l2' or 'none' penalties, got elasticnet penalty.\n",
            "\n",
            "--------------------------------------------------------------------------------\n",
            "30 fits failed with the following error:\n",
            "Traceback (most recent call last):\n",
            "  File \"/usr/local/lib/python3.7/dist-packages/sklearn/model_selection/_validation.py\", line 680, in _fit_and_score\n",
            "    estimator.fit(X_train, y_train, **fit_params)\n",
            "  File \"/usr/local/lib/python3.7/dist-packages/sklearn/linear_model/_logistic.py\", line 1461, in fit\n",
            "    solver = _check_solver(self.solver, self.penalty, self.dual)\n",
            "  File \"/usr/local/lib/python3.7/dist-packages/sklearn/linear_model/_logistic.py\", line 459, in _check_solver\n",
            "    solver\n",
            "ValueError: Only 'saga' solver supports elasticnet penalty, got solver=liblinear.\n",
            "\n",
            "--------------------------------------------------------------------------------\n",
            "30 fits failed with the following error:\n",
            "Traceback (most recent call last):\n",
            "  File \"/usr/local/lib/python3.7/dist-packages/sklearn/model_selection/_validation.py\", line 680, in _fit_and_score\n",
            "    estimator.fit(X_train, y_train, **fit_params)\n",
            "  File \"/usr/local/lib/python3.7/dist-packages/sklearn/linear_model/_logistic.py\", line 1461, in fit\n",
            "    solver = _check_solver(self.solver, self.penalty, self.dual)\n",
            "  File \"/usr/local/lib/python3.7/dist-packages/sklearn/linear_model/_logistic.py\", line 449, in _check_solver\n",
            "    % (solver, penalty)\n",
            "ValueError: Solver sag supports only 'l2' or 'none' penalties, got elasticnet penalty.\n",
            "\n",
            "--------------------------------------------------------------------------------\n",
            "30 fits failed with the following error:\n",
            "Traceback (most recent call last):\n",
            "  File \"/usr/local/lib/python3.7/dist-packages/sklearn/model_selection/_validation.py\", line 680, in _fit_and_score\n",
            "    estimator.fit(X_train, y_train, **fit_params)\n",
            "  File \"/usr/local/lib/python3.7/dist-packages/sklearn/linear_model/_logistic.py\", line 1473, in fit\n",
            "    % self.l1_ratio\n",
            "ValueError: l1_ratio must be between 0 and 1; got (l1_ratio=None)\n",
            "\n",
            "  warnings.warn(some_fits_failed_message, FitFailedWarning)\n",
            "/usr/local/lib/python3.7/dist-packages/sklearn/model_selection/_search.py:972: UserWarning: One or more of the test scores are non-finite: [       nan        nan        nan        nan        nan        nan\n",
            " 0.72528589 0.72710407 0.72529           nan        nan        nan\n",
            " 0.73163307 0.7261991  0.7261991  0.72801728 0.72801728 0.72801728\n",
            " 0.72801728 0.72801728 0.72801728 0.73073221 0.72982723 0.73073221\n",
            " 0.72982312 0.73163307 0.73163307 0.73072398 0.729819   0.729819\n",
            "        nan        nan        nan        nan        nan        nan\n",
            "        nan        nan        nan        nan        nan        nan\n",
            "        nan        nan        nan        nan        nan        nan\n",
            "        nan        nan        nan 0.72890991 0.72981489 0.72981489\n",
            "        nan        nan        nan 0.73163307 0.73071987 0.73071987\n",
            " 0.73162896 0.73162896 0.73162896 0.73162896 0.73162896 0.73162896\n",
            " 0.73344303 0.73162896 0.73162896 0.73345125 0.73253394 0.73253394\n",
            " 0.73163307 0.73162896 0.73162896        nan        nan        nan\n",
            "        nan        nan        nan        nan        nan        nan\n",
            "        nan        nan        nan        nan        nan        nan]\n",
            "  category=UserWarning,\n"
          ]
        }
      ]
    },
    {
      "cell_type": "code",
      "source": [
        "classifier8 = GridSearchCV(model_8, params_8, cv=5, n_jobs=-1, verbose=1, scoring=\"accuracy\")\n",
        "classifier8.fit(X, Y)\n",
        "print(classifier8.best_score_)\n",
        "print(classifier8.best_params_)"
      ],
      "metadata": {
        "colab": {
          "base_uri": "https://localhost:8080/"
        },
        "id": "jmyhOyb3c2x9",
        "outputId": "4e20a304-af21-4b91-8fd7-4106e3d897df"
      },
      "execution_count": 38,
      "outputs": [
        {
          "output_type": "stream",
          "name": "stdout",
          "text": [
            "Fitting 5 folds for each of 4 candidates, totalling 20 fits\n",
            "0.6509132044426162\n",
            "{'criterion': 'gini', 'splitter': 'best'}\n"
          ]
        }
      ]
    },
    {
      "cell_type": "code",
      "source": [
        "classifier9 = GridSearchCV(model_9, params_9, cv=5, n_jobs=-1, verbose=1, scoring=\"accuracy\")\n",
        "classifier9.fit(X, Y)\n",
        "print(classifier9.best_score_)\n",
        "print(classifier9.best_params_)"
      ],
      "metadata": {
        "colab": {
          "base_uri": "https://localhost:8080/"
        },
        "id": "Gl1hprGJdk8_",
        "outputId": "93a3c9ec-a167-4bdc-8192-21424fb4410c"
      },
      "execution_count": 44,
      "outputs": [
        {
          "output_type": "stream",
          "name": "stdout",
          "text": [
            "Fitting 5 folds for each of 40 candidates, totalling 200 fits\n",
            "0.7352612093788565\n",
            "{'activation': 'logistic', 'alpha': 0.0001, 'hidden_layer_sizes': (32, 16), 'learning_rate': 'constant', 'learning_rate_init': 0.01, 'solver': 'sgd'}\n"
          ]
        }
      ]
    }
  ]
}